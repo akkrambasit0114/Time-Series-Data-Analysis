{
 "cells": [
  {
   "cell_type": "code",
   "execution_count": 1,
   "id": "1b8e754b",
   "metadata": {
    "_cell_guid": "b1076dfc-b9ad-4769-8c92-a6c4dae69d19",
    "_uuid": "8f2839f25d086af736a60e9eeb907d3b93b6e0e5",
    "execution": {
     "iopub.execute_input": "2023-04-24T19:43:48.196680Z",
     "iopub.status.busy": "2023-04-24T19:43:48.196052Z",
     "iopub.status.idle": "2023-04-24T19:43:51.350360Z",
     "shell.execute_reply": "2023-04-24T19:43:51.348761Z"
    },
    "papermill": {
     "duration": 3.162688,
     "end_time": "2023-04-24T19:43:51.353771",
     "exception": false,
     "start_time": "2023-04-24T19:43:48.191083",
     "status": "completed"
    },
    "tags": []
   },
   "outputs": [],
   "source": [
    "import numpy as np\n",
    "import pandas as pd\n",
    "import os\n",
    "\n",
    "import matplotlib.pyplot as plt\n",
    "import seaborn as sns\n",
    "\n",
    "import statsmodels.api as sm\n",
    "\n",
    "plt.style.use('fivethirtyeight')\n"
   ]
  },
  {
   "cell_type": "code",
   "execution_count": null,
   "id": "15be1f73",
   "metadata": {
    "papermill": {
     "duration": 0.001684,
     "end_time": "2023-04-24T19:43:51.357883",
     "exception": false,
     "start_time": "2023-04-24T19:43:51.356199",
     "status": "completed"
    },
    "tags": []
   },
   "outputs": [],
   "source": []
  }
 ],
 "metadata": {
  "kernelspec": {
   "display_name": "Python 3",
   "language": "python",
   "name": "python3"
  },
  "language_info": {
   "codemirror_mode": {
    "name": "ipython",
    "version": 3
   },
   "file_extension": ".py",
   "mimetype": "text/x-python",
   "name": "python",
   "nbconvert_exporter": "python",
   "pygments_lexer": "ipython3",
   "version": "3.7.12"
  },
  "papermill": {
   "default_parameters": {},
   "duration": 15.76129,
   "end_time": "2023-04-24T19:43:52.185321",
   "environment_variables": {},
   "exception": null,
   "input_path": "__notebook__.ipynb",
   "output_path": "__notebook__.ipynb",
   "parameters": {},
   "start_time": "2023-04-24T19:43:36.424031",
   "version": "2.4.0"
  }
 },
 "nbformat": 4,
 "nbformat_minor": 5
}
